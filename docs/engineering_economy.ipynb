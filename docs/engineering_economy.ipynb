{
 "cells": [
  {
   "cell_type": "markdown",
   "metadata": {},
   "source": [
    "# Engineering Economy\n",
    "### Jimmy Azar"
   ]
  },
  {
   "cell_type": "markdown",
   "metadata": {},
   "source": [
    "## Defining eng'g economy factors"
   ]
  },
  {
   "cell_type": "code",
   "execution_count": 1,
   "metadata": {},
   "outputs": [],
   "source": [
    "##########################\n",
    "# factors (eng'g economy)\n",
    "##########################\n",
    "\n",
    "import numpy as np\n",
    "import matplotlib.pyplot as plt\n",
    "\n",
    "def fp(i,n):\n",
    "    return (1+i/100)**n\n",
    "\n",
    "def pf(i,n):\n",
    "    return 1/fp(i,n) \n",
    "\n",
    "def fa(i,n):\n",
    "    return ((1+i/100)**n - 1)/(i/100)\n",
    "\n",
    "def af(i,n):\n",
    "    return 1/af(i,n)\n",
    "\n",
    "def pa(i,n):\n",
    "    return ((1+i/100)**n - 1)/(i/100*(1+i/100)**n)\n",
    "\n",
    "def ap(i,n): \n",
    "    return 1/pa(i,n)\n",
    "\n",
    "def fg(i,n):\n",
    "    return ((1+i/100)**n - n*i/100 - 1)/((i/100)**2)\n",
    "\n",
    "def pg(i,n):\n",
    "    return ((1+i/100)**n - n*i/100 - 1)/((i/100)**2 * (1+i/100)**n)\n",
    "\n",
    "def ag(i,n): \n",
    "    return  ((1+i/100)**n - n*i/100 - 1)/(i/100 * ((1+i/100)**n - 1))\n",
    "\n",
    "def f_g(A1,g,i,n):\n",
    "    return A1 * ((1+g/100)**n - (1+i/100)**n)/(g/100-i/100) if i!=g else A1*n*(1+i/100)**(n-1)\n",
    "\n",
    "def p_g(A1,g,i,n):\n",
    "    return A1 * (1 - ((1+g/100)**n / (1+i/100)**n))/(i/100-g/100) if i!=g else A1*n/(1+i/100)"
   ]
  },
  {
   "cell_type": "code",
   "execution_count": 2,
   "metadata": {},
   "outputs": [
    {
     "data": {
      "text/plain": [
       "751.4389851661961"
      ]
     },
     "execution_count": 2,
     "metadata": {},
     "output_type": "execute_result"
    }
   ],
   "source": [
    "#example: -1000 + 100(P/A,10%,5) + 200(P/G,10%,5)\n",
    "\n",
    "-1000 + 100*pa(10,5) + 200*pg(10,5)"
   ]
  },
  {
   "cell_type": "markdown",
   "metadata": {},
   "source": [
    "## Finding roots"
   ]
  },
  {
   "cell_type": "code",
   "execution_count": 3,
   "metadata": {
    "scrolled": true
   },
   "outputs": [
    {
     "data": {
      "image/png": "[encoded data removed]",
      "text/plain": [
       "<Figure size 432x288 with 1 Axes>"
      ]
     },
     "metadata": {
      "needs_background": "light"
     },
     "output_type": "display_data"
    },
    {
     "name": "stdout",
     "output_type": "stream",
     "text": [
      "root=28.827559896270014\n"
     ]
    }
   ],
   "source": [
    "###############\n",
    "# root finding \n",
    "###############\n",
    "\n",
    "#1. define the function for which you want to find its root (if the var is number of year 'n', change it so)\n",
    "def f(i):\n",
    "    r = -1000 + 100*pa(i,5) + 200*pg(i,5)\n",
    "    return r \n",
    "\n",
    "#2. plot the function widely to locate a suitable bracket (lower/upper limits around the root)\n",
    "lower_limit = 1\n",
    "upper_limit = 100\n",
    "\n",
    "x = np.linspace(lower_limit, upper_limit, 100)\n",
    "y = f(x) \n",
    "\n",
    "plt.plot(x, y, lw=2)\n",
    "plt.axhline(y=0, c='r')\n",
    "plt.show()    \n",
    "\n",
    "#3. Use selected limits to find the root \n",
    "from scipy.optimize import root_scalar\n",
    "\n",
    "lower_limit = 1\n",
    "upper_limit = 50\n",
    "\n",
    "sol = root_scalar(f, bracket=[lower_limit, upper_limit], method='brentq') #brentq method takes as input a bracket\n",
    "print(f'root={sol.root}') "
   ]
  },
  {
   "cell_type": "markdown",
   "metadata": {},
   "source": [
    "## Integer Linear Program"
   ]
  },
  {
   "cell_type": "code",
   "execution_count": 4,
   "metadata": {},
   "outputs": [
    {
     "name": "stdout",
     "output_type": "stream",
     "text": [
      "budget_constraint_problem:\n",
      "MAXIMIZE\n",
      "6646*x1 + -1019*x2 + 984*x3 + -784*x4 + 0\n",
      "SUBJECT TO\n",
      "_C1: 8000 x1 + 15000 x2 + 8000 x3 + 8000 x4 <= 20000\n",
      "\n",
      "VARIABLES\n",
      "0 <= x1 <= 1 Integer\n",
      "0 <= x2 <= 1 Integer\n",
      "0 <= x3 <= 1 Integer\n",
      "0 <= x4 <= 1 Integer\n",
      "\n",
      "decision vars:[1.0, 0.0, 1.0, 0.0]\n",
      "PW_max = 7630.0\n"
     ]
    }
   ],
   "source": [
    "#########################\n",
    "# Integer linear program \n",
    "#########################\n",
    "#%pip install pulp \n",
    "\n",
    "import pulp as p \n",
    "  \n",
    "Lp_prob = p.LpProblem('budget_constraint_problem', p.LpMaximize) #create minimization problem  \n",
    "  \n",
    "x1 = p.LpVariable('x1', cat='Binary')   \n",
    "x2 = p.LpVariable('x2', cat='Binary')    \n",
    "x3 = p.LpVariable('x3', cat='Binary')   \n",
    "x4 = p.LpVariable('x4', cat='Binary')   \n",
    "   \n",
    "Lp_prob += 6646*x1 - 1019*x2 + 984*x3 - 784*x4 #objective function\n",
    "\n",
    "Lp_prob +=  8000*x1 + 15000*x2 + 8000*x3 + 8000*x4 <= 20000 #add constraint\n",
    "  \n",
    "print(Lp_prob) #display formulation  \n",
    "\n",
    "Lp_prob.solve() #solver \n",
    "\n",
    "print('decision vars:' + str([p.value(x1), p.value(x2), p.value(x3), p.value(x4)])) #decision variables \n",
    "\n",
    "print('PW_max = ' + str(p.value(Lp_prob.objective))) #optimized objective value"
   ]
  },
  {
   "cell_type": "markdown",
   "metadata": {},
   "source": [
    "## Spider plot"
   ]
  },
  {
   "cell_type": "code",
   "execution_count": 5,
   "metadata": {
    "scrolled": true
   },
   "outputs": [
    {
     "data": {
      "image/png": "[encoded data removed]",
      "text/plain": [
       "<Figure size 432x288 with 1 Axes>"
      ]
     },
     "metadata": {
      "needs_background": "light"
     },
     "output_type": "display_data"
    }
   ],
   "source": [
    "#########################\n",
    "# Spider plot \n",
    "#########################\n",
    "  \n",
    "i_most_likely = 15 \n",
    "n_most_likely = 10\n",
    "\n",
    "percent_change = np.arange(-50,50,10) #symmetric around 0\n",
    "\n",
    "i = i_most_likely * (1 + percent_change/100)\n",
    "n = (n_most_likely * (1 + percent_change/100)).round()\n",
    "\n",
    "PW_i = -80000 + 25000*pa(i, n_most_likely) - 2000*pg(i, n_most_likely)\n",
    "PW_n = -80000 + 25000*pa(i_most_likely, n) - 2000*pg(i_most_likely, n)\n",
    "\n",
    "plt.plot(percent_change, PW_i, c='b', lw=2, label='PW_i') \n",
    "plt.plot(percent_change, PW_n, c='r', lw=2, label='PW_n')  \n",
    "plt.xlabel('percent change around most likely value (at 0)')\n",
    "plt.ylabel('PW')\n",
    "plt.title('Basic spider plot')\n",
    "plt.legend()\n",
    "plt.grid()\n",
    "plt.show()"
   ]
  },
  {
   "cell_type": "markdown",
   "metadata": {},
   "source": [
    "## Simulation (analysis under uncertainty)"
   ]
  },
  {
   "cell_type": "code",
   "execution_count": 6,
   "metadata": {},
   "outputs": [
    {
     "data": {
      "image/png": "[encoded data removed]",
      "text/plain": [
       "<Figure size 432x288 with 1 Axes>"
      ]
     },
     "metadata": {
      "needs_background": "light"
     },
     "output_type": "display_data"
    },
    {
     "data": {
      "text/plain": [
       "0.87309"
      ]
     },
     "execution_count": 6,
     "metadata": {},
     "output_type": "execute_result"
    }
   ],
   "source": [
    "#############################\n",
    "# Simulation (risk analysis)\n",
    "#############################\n",
    "\n",
    "n_samples = 100000 #number of samples to generate\n",
    "i = np.random.uniform(low=6, high=10, size=n_samples) #uniform distribution in [6,10]\n",
    "NCF = np.random.normal(loc=2000, scale=500, size=n_samples) #normal distribution with mean=2000, std=500\n",
    "\n",
    "PW = -29000 + 5500*pa(i,6) + NCF*pa(i,4)*pf(i,6) + 3000*pf(i,10)\n",
    "\n",
    "plt.hist(PW, bins=20, density=False)\n",
    "plt.xlabel('PW')\n",
    "plt.ylabel('Count')\n",
    "plt.grid()\n",
    "plt.show() \n",
    "\n",
    "PW.mean() #mean of PW\n",
    "PW.std() #standard deviation of PW\n",
    "\n",
    "(PW>0).sum() #number of positive PW values\n",
    "(PW>0).sum()/n_samples #fraction of positive PW values out of total\n"
   ]
  }
 ],
 "metadata": {
  "celltoolbar": "Tags",
  "kernelspec": {
   "display_name": "Python 3",
   "language": "python",
   "name": "python3"
  },
  "language_info": {
   "codemirror_mode": {
    "name": "ipython",
    "version": 3
   },
   "file_extension": ".py",
   "mimetype": "text/x-python",
   "name": "python",
   "nbconvert_exporter": "python",
   "pygments_lexer": "ipython3",
   "version": "3.7.3"
  }
 },
 "nbformat": 4,
 "nbformat_minor": 2
}
